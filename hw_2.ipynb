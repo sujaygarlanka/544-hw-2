{
 "cells": [
  {
   "cell_type": "code",
   "execution_count": 1,
   "metadata": {},
   "outputs": [],
   "source": [
    "import pandas as pd\n",
    "import contractions\n",
    "import re\n",
    "import numpy as np"
   ]
  },
  {
   "cell_type": "markdown",
   "metadata": {},
   "source": [
    "# Dataset Generation"
   ]
  },
  {
   "cell_type": "code",
   "execution_count": 2,
   "metadata": {},
   "outputs": [
    {
     "name": "stderr",
     "output_type": "stream",
     "text": [
      "/tmp/ipykernel_5523/2650852633.py:1: DtypeWarning: Columns (7) have mixed types. Specify dtype option on import or set low_memory=False.\n",
      "  df = pd.read_csv(\n"
     ]
    }
   ],
   "source": [
    "df = pd.read_csv(\n",
    "    \"./amazon_reviews_us_Office_Products_v1_00.tsv\", sep=\"\\t\", on_bad_lines=\"skip\"\n",
    ")"
   ]
  },
  {
   "cell_type": "code",
   "execution_count": 3,
   "metadata": {},
   "outputs": [],
   "source": [
    "df[\"review\"] = df[\"review_headline\"] + \" \" + df[\"review_body\"]\n",
    "df = df.drop(\n",
    "    [\n",
    "        \"marketplace\",\n",
    "        \"customer_id\",\n",
    "        \"review_id\",\n",
    "        \"product_id\",\n",
    "        \"product_parent\",\n",
    "        \"product_title\",\n",
    "        \"product_category\",\n",
    "        \"helpful_votes\",\n",
    "        \"total_votes\",\n",
    "        \"vine\",\n",
    "        \"verified_purchase\",\n",
    "        \"review_date\",\n",
    "        \"review_headline\",\n",
    "        \"review_body\",\n",
    "    ],\n",
    "    axis=1,\n",
    ")\n",
    "\n",
    "def safe_convert(x):\n",
    "    try:\n",
    "        return int(x)\n",
    "    except ValueError:\n",
    "        return pd.NA\n",
    "\n",
    "\n",
    "df[\"star_rating\"] = df[\"star_rating\"].apply(safe_convert)\n",
    "# Drop rows with NaN\n",
    "df = df.dropna(subset=[\"star_rating\"])\n",
    "# Remove rows with non strings for reviews\n",
    "df = df[df[\"review\"].apply(lambda x: isinstance(x, str))]"
   ]
  },
  {
   "cell_type": "code",
   "execution_count": 4,
   "metadata": {},
   "outputs": [],
   "source": [
    "one_star = df[df[\"star_rating\"] == 1][0:50000]\n",
    "two_star = df[df[\"star_rating\"] == 2][0:50000]\n",
    "three_star = df[df[\"star_rating\"] == 3][0:50000]\n",
    "four_star = df[df[\"star_rating\"] == 4][0:50000]\n",
    "five_star = df[df[\"star_rating\"] == 5][0:50000]\n",
    "reviews = pd.concat([one_star, two_star, three_star, four_star, five_star])"
   ]
  },
  {
   "cell_type": "code",
   "execution_count": 5,
   "metadata": {},
   "outputs": [],
   "source": [
    "def binning(row):\n",
    "    if row[\"star_rating\"] >= 4:\n",
    "        return 1\n",
    "    elif row[\"star_rating\"] <= 2:\n",
    "        return 0\n",
    "    else:\n",
    "        return 2\n",
    "\n",
    "\n",
    "reviews[\"label\"] = reviews.apply(binning, axis=1)"
   ]
  },
  {
   "cell_type": "code",
   "execution_count": 6,
   "metadata": {},
   "outputs": [],
   "source": [
    "def cleaning(row):\n",
    "    review = row[\"review\"]\n",
    "    # Lower case\n",
    "    review = review.lower()\n",
    "    # Remove html tags\n",
    "    review = re.sub(r\"<.*?>\", \"\", review)\n",
    "    # Remove urls\n",
    "    review = re.sub(r\"http[s]?://\\S+\", \"\", review)\n",
    "    # Remove non alphanumeric characters\n",
    "    review = re.sub(r\"[^a-zA-Z\\s]\", \"\", review)\n",
    "    # Remove extra whitespaces\n",
    "    review = re.sub(r\"[\\s]+\", \" \", review)\n",
    "    # Remove contractions\n",
    "    review = contractions.fix(review)\n",
    "\n",
    "    return review\n",
    "\n",
    "\n",
    "reviews[\"review\"] = reviews.apply(cleaning, axis=1)"
   ]
  },
  {
   "cell_type": "code",
   "execution_count": 7,
   "metadata": {},
   "outputs": [
    {
     "name": "stderr",
     "output_type": "stream",
     "text": [
      "[nltk_data] Downloading package wordnet to /home/sujay/nltk_data...\n",
      "[nltk_data]   Package wordnet is already up-to-date!\n",
      "[nltk_data] Downloading package stopwords to /home/sujay/nltk_data...\n",
      "[nltk_data]   Package stopwords is already up-to-date!\n"
     ]
    }
   ],
   "source": [
    "import nltk\n",
    "from nltk.corpus import stopwords\n",
    "\n",
    "nltk.download(\"wordnet\")\n",
    "nltk.download(\"stopwords\")\n",
    "\n",
    "words = stopwords.words(\"english\")\n",
    "\n",
    "def remove_stopwords(row):\n",
    "    review = row[\"review\"]\n",
    "    review = review.split(\" \")\n",
    "    review = [word for word in review if word not in words]\n",
    "    review = \" \".join(review)\n",
    "    return review\n",
    "\n",
    "\n",
    "reviews[\"review\"] = reviews.apply(remove_stopwords, axis=1)"
   ]
  },
  {
   "cell_type": "code",
   "execution_count": 8,
   "metadata": {},
   "outputs": [
    {
     "name": "stderr",
     "output_type": "stream",
     "text": [
      "[nltk_data] Downloading package universal_tagset to\n",
      "[nltk_data]     /home/sujay/nltk_data...\n",
      "[nltk_data]   Package universal_tagset is already up-to-date!\n",
      "[nltk_data] Downloading package averaged_perceptron_tagger to\n",
      "[nltk_data]     /home/sujay/nltk_data...\n",
      "[nltk_data]   Package averaged_perceptron_tagger is already up-to-\n",
      "[nltk_data]       date!\n",
      "[nltk_data] Downloading package punkt to /home/sujay/nltk_data...\n",
      "[nltk_data]   Package punkt is already up-to-date!\n"
     ]
    }
   ],
   "source": [
    "from nltk.stem import WordNetLemmatizer\n",
    "from nltk import pos_tag\n",
    "\n",
    "nltk.download(\"universal_tagset\")\n",
    "nltk.download(\"averaged_perceptron_tagger\")\n",
    "nltk.download(\"punkt\")\n",
    "\n",
    "lemmatizer = WordNetLemmatizer()\n",
    "\n",
    "\n",
    "def lemmatize(row):\n",
    "    review = row[\"review\"]\n",
    "    words = nltk.word_tokenize(review)\n",
    "    lemmatized_words = []\n",
    "    for word, tag in pos_tag(words, tagset=\"universal\"):\n",
    "        if tag == \"NOUN\":\n",
    "            lemmatized_words.append(lemmatizer.lemmatize(word, \"n\"))\n",
    "        elif tag == \"VERB\":\n",
    "            lemmatized_words.append(lemmatizer.lemmatize(word, \"v\"))\n",
    "        elif tag == \"ADJ\":\n",
    "            lemmatized_words.append(lemmatizer.lemmatize(word, \"a\"))\n",
    "        elif tag == \"ADV\":\n",
    "            lemmatized_words.append(lemmatizer.lemmatize(word, \"r\"))\n",
    "        else:\n",
    "            lemmatized_words.append(word)\n",
    "    lemmatized_review = \" \".join(lemmatized_words)\n",
    "    return lemmatized_review\n",
    "\n",
    "\n",
    "reviews[\"review\"] = reviews.apply(lemmatize, axis=1)"
   ]
  },
  {
   "cell_type": "code",
   "execution_count": 61,
   "metadata": {},
   "outputs": [],
   "source": [
    "# Drop rows with empty reviews\n",
    "reviews = reviews[reviews[\"review\"].apply(lambda x: len(x) > 0)]"
   ]
  },
  {
   "cell_type": "markdown",
   "metadata": {},
   "source": [
    "# Word Embedding"
   ]
  },
  {
   "cell_type": "code",
   "execution_count": 23,
   "metadata": {},
   "outputs": [],
   "source": [
    "import gensim.downloader as api\n",
    "from gensim import utils, matutils\n",
    "\n",
    "google_wv = api.load(\"word2vec-google-news-300\")"
   ]
  },
  {
   "cell_type": "code",
   "execution_count": 24,
   "metadata": {},
   "outputs": [],
   "source": [
    "# print(wv.similarity(wv['king'] - wv['man'] + wv['woman'], wv['queen']))\n",
    "def similarity_score(w1, w2):\n",
    "    return np.dot(matutils.unitvec(w1), matutils.unitvec(w2))"
   ]
  },
  {
   "cell_type": "code",
   "execution_count": 25,
   "metadata": {},
   "outputs": [
    {
     "name": "stdout",
     "output_type": "stream",
     "text": [
      "0.55674857\n",
      "0.73005176\n"
     ]
    }
   ],
   "source": [
    "print(google_wv.similarity(\"excellent\", \"outstanding\"))\n",
    "print(\n",
    "    similarity_score(\n",
    "        google_wv[\"king\"] - google_wv[\"man\"] + google_wv[\"woman\"], google_wv[\"queen\"]\n",
    "    )\n",
    ")"
   ]
  },
  {
   "cell_type": "code",
   "execution_count": 26,
   "metadata": {},
   "outputs": [],
   "source": [
    "import gensim.models\n",
    "\n",
    "class MyCorpus:\n",
    "    \"\"\"An iterator that yields sentences (lists of str).\"\"\"\n",
    "\n",
    "    def __iter__(self):\n",
    "        for r in reviews['review']:\n",
    "            # assume there's one document per line, tokens separated by whitespace\n",
    "            yield r\n",
    "\n",
    "sentences = MyCorpus()\n",
    "model = gensim.models.Word2Vec(sentences=sentences, min_count=10, vector_size=200)"
   ]
  },
  {
   "cell_type": "code",
   "execution_count": 27,
   "metadata": {},
   "outputs": [
    {
     "data": {
      "text/plain": [
       "(29348452, 170707160)"
      ]
     },
     "execution_count": 27,
     "metadata": {},
     "output_type": "execute_result"
    }
   ],
   "source": [
    "model.train(sentences, total_examples=model.corpus_count, epochs=model.epochs)"
   ]
  },
  {
   "cell_type": "markdown",
   "metadata": {},
   "source": [
    "# Simple models"
   ]
  },
  {
   "cell_type": "code",
   "execution_count": 62,
   "metadata": {},
   "outputs": [],
   "source": [
    "from sklearn.model_selection import train_test_split\n",
    "\n",
    "# Drop neutral reviews\n",
    "reviews_no_neutral = reviews[reviews[\"label\"] != 2]\n",
    "\n",
    "\n",
    "x_train_og, x_test_og, y_train, y_test = train_test_split(\n",
    "    reviews_no_neutral[\"review\"],\n",
    "    reviews_no_neutral[\"label\"],\n",
    "    test_size=0.2,\n",
    "    random_state=42,\n",
    ")\n",
    "x_train_og = x_train_og.to_frame()\n",
    "x_test_og = x_test_og.to_frame()\n",
    "y_train = y_train.to_frame()\n",
    "y_test = y_test.to_frame()"
   ]
  },
  {
   "cell_type": "code",
   "execution_count": 64,
   "metadata": {},
   "outputs": [],
   "source": [
    "def get_features(row):\n",
    "    review = row[\"review\"]\n",
    "    combined_vector = np.zeros(google_wv.vector_size)\n",
    "    if len(review) == 0:\n",
    "        print(review)\n",
    "    for w in review:\n",
    "        if w in google_wv:\n",
    "            combined_vector += google_wv[w]\n",
    "    return combined_vector/len(review)\n",
    "\n",
    "\n",
    "x_train = np.vstack(x_train_og.apply(get_features, axis=1).to_numpy())\n",
    "x_test = np.vstack(x_test_og.apply(get_features, axis=1).to_numpy())"
   ]
  },
  {
   "cell_type": "code",
   "execution_count": 75,
   "metadata": {},
   "outputs": [
    {
     "name": "stdout",
     "output_type": "stream",
     "text": [
      "39997\n",
      "39997\n"
     ]
    }
   ],
   "source": [
    "print(len(x_test))\n",
    "print(len(y_test))"
   ]
  },
  {
   "cell_type": "code",
   "execution_count": 67,
   "metadata": {},
   "outputs": [
    {
     "name": "stderr",
     "output_type": "stream",
     "text": [
      "/home/sujay/miniconda3/envs/544/lib/python3.12/site-packages/sklearn/utils/validation.py:1229: DataConversionWarning: A column-vector y was passed when a 1d array was expected. Please change the shape of y to (n_samples, ), for example using ravel().\n",
      "  y = column_or_1d(y, warn=True)\n"
     ]
    },
    {
     "name": "stdout",
     "output_type": "stream",
     "text": [
      "Accuracy, Precision, Recall, F1 (Test Set): 0.6412980973573018, 0.9243211158925657, 0.31042559553473537, 0.4647640365603432\n"
     ]
    }
   ],
   "source": [
    "from sklearn.linear_model import Perceptron\n",
    "from sklearn.metrics import accuracy_score, precision_score, recall_score, f1_score\n",
    "\n",
    "p_model = Perceptron(tol=1e-3, random_state=0)\n",
    "p_model.fit(x_train, y=y_train)\n",
    "\n",
    "y_test_pred = p_model.predict(x_test)\n",
    "\n",
    "# Test\n",
    "# print(\n",
    "#     f\"Accuracy, Precision, Recall, F1 (Test Set): {accuracy_score(y_test, y_test_pred)}, {precision_score(y_test, y_test_pred)}, {recall_score(y_test, y_test_pred)}, {f1_score(y_test, y_test_pred)}\"\n",
    "# )"
   ]
  },
  {
   "cell_type": "code",
   "execution_count": 68,
   "metadata": {},
   "outputs": [
    {
     "name": "stderr",
     "output_type": "stream",
     "text": [
      "/home/sujay/miniconda3/envs/544/lib/python3.12/site-packages/sklearn/utils/validation.py:1229: DataConversionWarning: A column-vector y was passed when a 1d array was expected. Please change the shape of y to (n_samples, ), for example using ravel().\n",
      "  y = column_or_1d(y, warn=True)\n"
     ]
    },
    {
     "name": "stdout",
     "output_type": "stream",
     "text": [
      "Accuracy, Precision, Recall, F1 (Test Set): 0.7169287696577243, 0.751959428307976, 0.6502541612678162, 0.6974183548025015\n"
     ]
    }
   ],
   "source": [
    "from sklearn.svm import LinearSVC\n",
    "\n",
    "model = LinearSVC(\n",
    "    dual=\"auto\", random_state=0, tol=1e-05\n",
    ")  # You can change the kernel and other parameters\n",
    "\n",
    "# Train the model\n",
    "model.fit(x_train, y_train)\n",
    "\n",
    "# Make predictions\n",
    "y_test_pred = model.predict(x_test)\n",
    "\n",
    "# Test\n",
    "print(\n",
    "    f\"Accuracy, Precision, Recall, F1 (Test Set): {accuracy_score(y_test, y_test_pred)}, {precision_score(y_test, y_test_pred)}, {recall_score(y_test, y_test_pred)}, {f1_score(y_test, y_test_pred)}\"\n",
    ")"
   ]
  }
 ],
 "metadata": {
  "kernelspec": {
   "display_name": "544",
   "language": "python",
   "name": "python3"
  },
  "language_info": {
   "codemirror_mode": {
    "name": "ipython",
    "version": 3
   },
   "file_extension": ".py",
   "mimetype": "text/x-python",
   "name": "python",
   "nbconvert_exporter": "python",
   "pygments_lexer": "ipython3",
   "version": "3.12.1"
  }
 },
 "nbformat": 4,
 "nbformat_minor": 2
}
